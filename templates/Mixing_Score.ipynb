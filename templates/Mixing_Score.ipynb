{
 "cells": [
  {
   "cell_type": "markdown",
   "id": "7c698efb-a53a-46a9-a313-01be64c0a492",
   "metadata": {},
   "source": [
    "# Mixing Score\n",
    "The purpose of this notebook is to calculate the mixing score between any two cell populations in a sample."
   ]
  },
  {
   "cell_type": "code",
   "execution_count": null,
   "id": "dc708baf-bc6d-4bae-9900-8ee8aeffd79c",
   "metadata": {},
   "outputs": [],
   "source": [
    "import os\n",
    "import pandas as pd\n",
    "\n",
    "from ark.analysis.spatial_analysis import compute_cell_neighbors, compute_mixing_score, create_neighborhood_matrix\n",
    "import ark.settings as settings"
   ]
  },
  {
   "cell_type": "code",
   "execution_count": 2,
   "id": "326c6f66-64ce-48d6-b101-fcd8fa1ea424",
   "metadata": {},
   "outputs": [],
   "source": [
    "base_dir = \"../data/example_dataset\"\n",
    "cell_table_path = os.path.join(base_dir, \"cell_table\", \"cell_table_size_normalized_cell_labels.csv\")\n",
    "dist_mat_dir = os.path.join(base_dir, \"dist_mats\")\n",
    "mixing_score_dir = os.path.join(base_dir, \"mixing_score\")\n",
    "cell_neighbors_dir = os.path.join(mixing_score_dir, \"cell_neighbors\")\n",
    "\n",
    "# Create output directory\n",
    "if not os.path.exists(cell_neighbors_dir):\n",
    "    os.makedirs(cell_neighbors_dir)"
   ]
  },
  {
   "cell_type": "code",
   "execution_count": null,
   "id": "0518be36-c637-4598-8894-6efde1a07677",
   "metadata": {},
   "outputs": [],
   "source": [
    "all_data = pd.read_csv(cell_table_path)\n",
    "all_fovs = all_data[settings.FOV_ID].unique()\n",
    "\n",
    "target_cell = 'tumor'\n",
    "reference_cell = 'immune'"
   ]
  },
  {
   "cell_type": "code",
   "execution_count": null,
   "id": "80357476-1752-455f-b5cb-84de970e0140",
   "metadata": {},
   "outputs": [],
   "source": [
    "compute_cell_neighbors(all_data, dist_mat_dir, cell_neighbors_dir, neighbors_radius=100)"
   ]
  },
  {
   "cell_type": "code",
   "execution_count": null,
   "id": "9f642f2f-d345-4357-8a60-0e46b82fc5da",
   "metadata": {},
   "outputs": [],
   "source": [
    "for fov in all_fovs:\n",
    "    scores.append(compute_mixing_score(cell_neighbors_dir, fov=fov, target_cell=target_cell, reference_cell=reference_cell, \n",
    "                                       cold_thresh=250))\n",
    "df = pd.DataFrame(list(zip(all_fovs, scores)), columns =['fov', 'mixing_score'])\n",
    "df.to_csv(os.path.join(mixing_score_dir, \"mixing_score.csv\"), index=False)"
   ]
  }
 ],
 "metadata": {
  "kernelspec": {
   "display_name": "Python 3 (ipykernel)",
   "language": "python",
   "name": "python3"
  },
  "language_info": {
   "codemirror_mode": {
    "name": "ipython",
    "version": 3
   },
   "file_extension": ".py",
   "mimetype": "text/x-python",
   "name": "python",
   "nbconvert_exporter": "python",
   "pygments_lexer": "ipython3",
   "version": "3.8.14"
  }
 },
 "nbformat": 4,
 "nbformat_minor": 5
}
