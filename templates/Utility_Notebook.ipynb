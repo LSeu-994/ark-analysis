{
 "cells": [
  {
   "cell_type": "markdown",
   "metadata": {},
   "source": [
    "# Utility Notebook - OME-TIFF Conversion\n",
    "\n",
    "This small notebook is used to convert an OME-TIFF into the FOV format used throughout [Ark-Analysis](https://github.com/angelolab/ark-analysis)."
   ]
  },
  {
   "cell_type": "code",
   "execution_count": null,
   "metadata": {},
   "outputs": [],
   "source": [
    "from ark.utils import load_utils\n",
    "import pathlib\n",
    "from tqdm.notebook import tqdm\n",
    "import os"
   ]
  },
  {
   "cell_type": "markdown",
   "metadata": {},
   "source": [
    "**Variables:**\n",
    "* `ome_dir_path`: The directory containing all the OME-TIFFs which will be used.\n",
    "* `data_dir`: The directory where the FOVs get saved to. Recommended to be a subdirectory in `../data/`."
   ]
  },
  {
   "cell_type": "code",
   "execution_count": null,
   "metadata": {},
   "outputs": [],
   "source": [
    "ome_dir_path: str = \"./misc/\"\n",
    "\n",
    "data_dir_path: str = \"../data/your_data/\""
   ]
  },
  {
   "cell_type": "markdown",
   "metadata": {},
   "source": [
    "Convert all the OME-TIFFS to FOVs and save them in `data_dir`."
   ]
  },
  {
   "cell_type": "code",
   "execution_count": null,
   "metadata": {},
   "outputs": [],
   "source": [
    "data_dir = pathlib.Path(data_dir_path)\n",
    "ome_dir: str = pathlib.Path(ome_dir_path)\n",
    "\n",
    "# Make the data_dir if it doesn't exist\n",
    "if not os.path.exists(data_dir):\n",
    "    os.makedirs(data_dir)\n",
    "\n",
    "# Gather all the OME-TIFFs\n",
    "ome_tiffs = list(ome_dir.glob(\"*.ome.tiff\"))\n",
    "\n",
    "# Convert all the OME-TIFFs to FOVs\n",
    "for ome_tiff in tqdm(ome_tiffs):\n",
    "    load_utils.ome_to_fov(ome_tiff, data_dir=data_dir)"
   ]
  }
 ],
 "metadata": {
  "kernelspec": {
   "display_name": "Python 3.8.15 64-bit ('ark38')",
   "language": "python",
   "name": "python3"
  },
  "language_info": {
   "codemirror_mode": {
    "name": "ipython",
    "version": 3
   },
   "file_extension": ".py",
   "mimetype": "text/x-python",
   "name": "python",
   "nbconvert_exporter": "python",
   "pygments_lexer": "ipython3",
   "version": "3.8.15"
  },
  "orig_nbformat": 4,
  "vscode": {
   "interpreter": {
    "hash": "31e90e2a7155cbaa93471c58eaf30b3c41423e5d17fccea222aec5e482389189"
   }
  }
 },
 "nbformat": 4,
 "nbformat_minor": 2
}
